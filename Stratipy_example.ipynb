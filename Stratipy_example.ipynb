{
 "cells": [
  {
   "cell_type": "code",
   "execution_count": 1,
   "metadata": {},
   "outputs": [
    {
     "name": "stdout",
     "output_type": "stream",
     "text": [
      "/Users/zoltan/Dropbox/Chronostratigraphy/stratipy\n"
     ]
    }
   ],
   "source": [
    "cd '/Users/zoltan/Dropbox/Chronostratigraphy/stratipy'"
   ]
  },
  {
   "cell_type": "code",
   "execution_count": 1,
   "metadata": {},
   "outputs": [],
   "source": [
    "import stratipy as sp\n",
    "from mayavi import mlab\n",
    "import matplotlib.pyplot as plt\n",
    "import numpy as np\n",
    "import h5py\n",
    "\n",
    "# set up graphics:\n",
    "%matplotlib qt\n",
    "plt.rcParams['svg.fonttype'] = 'none'"
   ]
  },
  {
   "cell_type": "code",
   "execution_count": 2,
   "metadata": {},
   "outputs": [],
   "source": [
    "# load data from hdf5 file (this is a 'meanderpy' model)\n",
    "fname = '/Users/zoltan/Dropbox/Chronostratigraphy/meanderpy_strat_model_example_1.hdf5'\n",
    "f = h5py.File(fname, 'r')\n",
    "model  = f['model']\n",
    "topo = np.array(model['topo'])\n",
    "strat = np.array(model['strat'])\n",
    "facies = np.array(model['facies'])\n",
    "porosity = np.array(model['porosity'])\n",
    "facies_code = {}\n",
    "facies_code[int(np.array(model['point bar']))] = 'point bar'\n",
    "facies_code[int(np.array(model['levee']))] = 'levee'\n",
    "dx = float(np.array(model['dx']))\n",
    "f.close()"
   ]
  },
  {
   "cell_type": "code",
   "execution_count": 3,
   "metadata": {},
   "outputs": [],
   "source": [
    "# create facies volume (the facies data that comes from meanderpy is a 1D array and we need to expand it to 3D)\n",
    "facies3d = np.zeros((strat.shape[0], strat.shape[1], strat.shape[2]-1))\n",
    "for i in range(len(facies)):\n",
    "    facies3d[:,:,i] = facies[i] - 1 # facies codes should start at 0"
   ]
  },
  {
   "cell_type": "markdown",
   "metadata": {},
   "source": [
    "## Simple block diagram, facies mode"
   ]
  },
  {
   "cell_type": "code",
   "execution_count": 4,
   "metadata": {},
   "outputs": [
    {
     "name": "stderr",
     "output_type": "stream",
     "text": [
      "100%|██████████| 130/130 [00:14<00:00,  9.28it/s]"
     ]
    },
    {
     "name": "stdout",
     "output_type": "stream",
     "text": [
      "block 1 done, out of 1 blocks\n"
     ]
    },
    {
     "name": "stderr",
     "output_type": "stream",
     "text": [
      "\n"
     ]
    }
   ],
   "source": [
    "mlab.figure(bgcolor = (1,1,1))\n",
    "ve = 10.0\n",
    "scale = 1\n",
    "strat_switch = 1\n",
    "layers_switch = 1\n",
    "contour_switch = 0\n",
    "dx = 10.0\n",
    "bottom = np.min(strat) - 2\n",
    "colors = [[0.9,0.9,0],[0.5,0.25,0]]\n",
    "line_thickness = 0.5\n",
    "gap = 50\n",
    "color_mode = 'facies'\n",
    "h = 6.0\n",
    "export = 0\n",
    "topo_min = np.min(topo[:,:,-1])\n",
    "topo_max = np.max(topo[:,:,-1])\n",
    "ci = 1.0 # contour interval\n",
    "\n",
    "sp.create_exploded_view(strat, None, facies3d, x0=0, y0=0, nx=1, ny=1, \n",
    "            gap=gap, dx=dx, ve=ve, scale=scale, plot_strat=True, plot_surfs=True, plot_contours=False, \n",
    "            plot_sides=True, color_mode = color_mode, colors=colors, colormap='viridis', line_thickness=line_thickness, \n",
    "            bottom=bottom, export=0, topo_min=topo_min, topo_max=topo_max, ci=ci, opacity=1.0)"
   ]
  },
  {
   "cell_type": "markdown",
   "metadata": {},
   "source": [
    "## Exploded view with 2 x 2 blocks, facies mode"
   ]
  },
  {
   "cell_type": "code",
   "execution_count": 5,
   "metadata": {},
   "outputs": [
    {
     "name": "stderr",
     "output_type": "stream",
     "text": [
      "100%|██████████| 130/130 [00:15<00:00,  8.63it/s]\n"
     ]
    },
    {
     "name": "stdout",
     "output_type": "stream",
     "text": [
      "block 1 done, out of 4 blocks\n"
     ]
    },
    {
     "name": "stderr",
     "output_type": "stream",
     "text": [
      "100%|██████████| 130/130 [00:26<00:00,  4.97it/s]\n"
     ]
    },
    {
     "name": "stdout",
     "output_type": "stream",
     "text": [
      "block 2 done, out of 4 blocks\n"
     ]
    },
    {
     "name": "stderr",
     "output_type": "stream",
     "text": [
      "100%|██████████| 130/130 [00:38<00:00,  3.41it/s]\n"
     ]
    },
    {
     "name": "stdout",
     "output_type": "stream",
     "text": [
      "block 3 done, out of 4 blocks\n"
     ]
    },
    {
     "name": "stderr",
     "output_type": "stream",
     "text": [
      "100%|██████████| 130/130 [00:54<00:00,  2.39it/s]"
     ]
    },
    {
     "name": "stdout",
     "output_type": "stream",
     "text": [
      "block 4 done, out of 4 blocks\n"
     ]
    },
    {
     "name": "stderr",
     "output_type": "stream",
     "text": [
      "\n"
     ]
    }
   ],
   "source": [
    "# display 4 blocks, 2 in each direction (this takes a while)\n",
    "mlab.figure(bgcolor = (1,1,1))\n",
    "sp.create_exploded_view(strat, None, facies3d, x0=0, y0=0, nx=2, ny=2, \n",
    "            gap=gap, dx=dx, ve=ve, scale=scale, plot_strat=True, plot_surfs=True, plot_contours=False, \n",
    "            plot_sides=True, color_mode = color_mode, colors=colors, colormap='viridis', line_thickness=line_thickness, \n",
    "            bottom=bottom, export=0, topo_min=topo_min, topo_max=topo_max, ci=ci, opacity=1.0)"
   ]
  },
  {
   "cell_type": "code",
   "execution_count": 7,
   "metadata": {},
   "outputs": [
    {
     "data": {
      "text/plain": [
       "<module 'stratipy' from '/Users/zoltan/Dropbox/Chronostratigraphy/stratipy/stratipy.py'>"
      ]
     },
     "execution_count": 7,
     "metadata": {},
     "output_type": "execute_result"
    }
   ],
   "source": [
    "from importlib import reload\n",
    "reload(sp)"
   ]
  },
  {
   "cell_type": "markdown",
   "metadata": {},
   "source": [
    "## Fence diagram, facies mode"
   ]
  },
  {
   "cell_type": "code",
   "execution_count": 8,
   "metadata": {},
   "outputs": [
    {
     "name": "stderr",
     "output_type": "stream",
     "text": [
      "100%|██████████| 4/4 [00:18<00:00,  4.53s/it]\n",
      "100%|██████████| 4/4 [00:31<00:00,  7.79s/it]\n"
     ]
    }
   ],
   "source": [
    "mlab.clf()\n",
    "sp.create_fence_diagram(strat, None, facies3d, x0=0, y0=0, nx=2, ny=2, dx=dx, ve=ve, scale=scale, \n",
    "                        plot_surfs=True, plot_sides=True, color_mode=color_mode, \n",
    "                     colors=colors, colormap = 'viridis', line_thickness=line_thickness, bottom=bottom, \n",
    "                        export=0, opacity=1.0)"
   ]
  },
  {
   "cell_type": "markdown",
   "metadata": {},
   "source": [
    "## Exploded view with 2 x 2 blocks, property mode"
   ]
  },
  {
   "cell_type": "code",
   "execution_count": 9,
   "metadata": {},
   "outputs": [
    {
     "name": "stderr",
     "output_type": "stream",
     "text": [
      "100%|██████████| 130/130 [00:23<00:00,  5.43it/s]\n"
     ]
    },
    {
     "name": "stdout",
     "output_type": "stream",
     "text": [
      "block 1 done, out of 4 blocks\n"
     ]
    },
    {
     "name": "stderr",
     "output_type": "stream",
     "text": [
      "100%|██████████| 130/130 [00:35<00:00,  3.71it/s]\n"
     ]
    },
    {
     "name": "stdout",
     "output_type": "stream",
     "text": [
      "block 2 done, out of 4 blocks\n"
     ]
    },
    {
     "name": "stderr",
     "output_type": "stream",
     "text": [
      "100%|██████████| 130/130 [00:48<00:00,  2.67it/s]\n"
     ]
    },
    {
     "name": "stdout",
     "output_type": "stream",
     "text": [
      "block 3 done, out of 4 blocks\n"
     ]
    },
    {
     "name": "stderr",
     "output_type": "stream",
     "text": [
      "100%|██████████| 130/130 [01:08<00:00,  1.91it/s]"
     ]
    },
    {
     "name": "stdout",
     "output_type": "stream",
     "text": [
      "block 4 done, out of 4 blocks\n"
     ]
    },
    {
     "name": "stderr",
     "output_type": "stream",
     "text": [
      "\n"
     ]
    }
   ],
   "source": [
    "mlab.figure(bgcolor = (1,1,1))\n",
    "sp.create_exploded_view(strat, porosity, facies3d, x0=0, y0=0, nx=2, ny=2, \n",
    "            gap=gap, dx=dx, ve=ve, scale=scale, plot_strat=True, plot_surfs=True, plot_contours=False, \n",
    "            plot_sides=True, color_mode = 'property', colors=colors, colormap='viridis', \n",
    "            line_thickness=line_thickness, \n",
    "            bottom=bottom, export=0, topo_min=topo_min,topo_max=topo_max, ci=ci, opacity=1.0)"
   ]
  },
  {
   "cell_type": "markdown",
   "metadata": {},
   "source": [
    "## Fence diagram, facies mode"
   ]
  },
  {
   "cell_type": "code",
   "execution_count": 35,
   "metadata": {},
   "outputs": [],
   "source": [
    "mlab.clf()\n",
    "sp.create_fence_diagram(strat, porosity, facies3d, x0=0, y0=0, nx=2, ny=2, dx=dx, ve=ve, scale=scale, \n",
    "                        plot_surfs=True, plot_sides=True, color_mode='property', \n",
    "                     colors=colors, colormap = 'viridis', line_thickness=line_thickness, bottom=bottom, \n",
    "                        export=0, opacity=1.0)"
   ]
  },
  {
   "cell_type": "code",
   "execution_count": 10,
   "metadata": {},
   "outputs": [],
   "source": [
    "mlab.clf()"
   ]
  },
  {
   "cell_type": "markdown",
   "metadata": {},
   "source": [
    "## 'Random cookie', facies mode"
   ]
  },
  {
   "cell_type": "code",
   "execution_count": 11,
   "metadata": {},
   "outputs": [],
   "source": [
    "xcoords, ycoords = sp.select_random_section(strat) # define x and y coordinates for random 'cookie'"
   ]
  },
  {
   "cell_type": "code",
   "execution_count": 12,
   "metadata": {},
   "outputs": [
    {
     "name": "stderr",
     "output_type": "stream",
     "text": [
      "100%|██████████| 130/130 [02:30<00:00,  1.16s/it]\n",
      "100%|██████████| 130/130 [03:49<00:00,  1.77s/it]\n",
      "100%|██████████| 130/130 [02:49<00:00,  1.30s/it]\n",
      "100%|██████████| 130/130 [10:46<00:00,  4.98s/it]\n",
      "100%|██████████| 130/130 [00:04<00:00, 30.02it/s]\n"
     ]
    }
   ],
   "source": [
    "# this can take quite long\n",
    "# mlab.figure(bgcolor = (1,1,1))\n",
    "sp.create_random_cookie(strat, facies3d, topo, scale, ve, 'facies', colors, 'viridis',\n",
    "                        xcoords[:-1], xcoords[1:], ycoords[:-1], ycoords[1:], dx, bottom, export, opacity=1.0)"
   ]
  },
  {
   "cell_type": "markdown",
   "metadata": {},
   "source": [
    "## Time-elevation curve ('Barrell plot')"
   ]
  },
  {
   "cell_type": "code",
   "execution_count": 13,
   "metadata": {},
   "outputs": [],
   "source": [
    "# create time array (assumes that every point bar - overbank couplet was deposited in 5 years)\n",
    "dt = 5.0\n",
    "time = np.linspace(0, np.round(dt*(topo.shape[2]-1)/3), int((topo.shape[2]-1)/3)+1)"
   ]
  },
  {
   "cell_type": "code",
   "execution_count": 14,
   "metadata": {},
   "outputs": [],
   "source": [
    "# only consider point bar - overbank couplets so that surfaces represent constant time increments:\n",
    "elevation = topo[200, 200, ::3] \n",
    "fig = sp.plot_strat_diagram(time, elevation, 'years', 'm', max(time), 2.0)"
   ]
  },
  {
   "cell_type": "markdown",
   "metadata": {},
   "source": [
    "## Chronostratigraphic (Wheeler) diagram"
   ]
  },
  {
   "cell_type": "code",
   "execution_count": 33,
   "metadata": {},
   "outputs": [],
   "source": [
    "# use every third surface in the topography array and every second surface in the stratigraphy array:\n",
    "strat, wheeler, wheeler_strat, vacuity = sp.create_wheeler_diagram(topo[:,:,::3])"
   ]
  },
  {
   "cell_type": "code",
   "execution_count": 34,
   "metadata": {},
   "outputs": [],
   "source": [
    "# strike section\n",
    "plt.figure(figsize=(15,10))\n",
    "plt.imshow(wheeler[:, 100, :].T, cmap='RdBu', vmin = -8, vmax = 8, extent = [0, dx*strat.shape[0], time[-1], 0],\n",
    "           interpolation='none', aspect='auto')\n",
    "plt.gca().invert_yaxis()\n",
    "plt.colorbar()\n",
    "plt.xlabel('distance (m)', fontsize = 14)\n",
    "plt.ylabel('time (years)', fontsize = 14)\n",
    "plt.title('chronostratigraphic diagram', fontsize = 14)\n",
    "plt.tight_layout()"
   ]
  },
  {
   "cell_type": "code",
   "execution_count": 13,
   "metadata": {},
   "outputs": [],
   "source": [
    "# strike section, showing only what is preserved\n",
    "plt.figure(figsize=(15,10))\n",
    "plt.imshow(wheeler_strat[:, 100, :].T, cmap='RdBu', vmin = -8, vmax = 8, extent = [0, dx*strat.shape[0], time[-1], 0],\n",
    "           interpolation='none', aspect='auto')\n",
    "plt.gca().invert_yaxis()\n",
    "plt.colorbar()\n",
    "plt.xlabel('distance (m)', fontsize = 14)\n",
    "plt.ylabel('time (years)', fontsize = 14)\n",
    "plt.title('chronostratigraphic diagram', fontsize = 14)\n",
    "plt.tight_layout()"
   ]
  },
  {
   "cell_type": "code",
   "execution_count": 17,
   "metadata": {},
   "outputs": [],
   "source": [
    "# dip section\n",
    "plt.figure(figsize=(15,10))\n",
    "plt.imshow(wheeler[200, :, :].T, cmap='RdBu', vmin = -8, vmax = 8, extent = [0, dx*strat.shape[0], time[-1], 0],\n",
    "           interpolation='none', aspect='auto')\n",
    "plt.gca().invert_yaxis()\n",
    "plt.colorbar()\n",
    "plt.xlabel('distance (m)', fontsize = 14)\n",
    "plt.ylabel('time (years)', fontsize = 14)\n",
    "plt.title('chronostratigraphic diagram', fontsize = 14)\n",
    "plt.tight_layout()"
   ]
  },
  {
   "cell_type": "code",
   "execution_count": 18,
   "metadata": {},
   "outputs": [],
   "source": [
    "# time section\n",
    "plt.figure(figsize=(15,10))\n",
    "plt.imshow(wheeler[:, :, 60], cmap='RdBu', vmin = -8, vmax = 8, extent = [0, dx*strat.shape[1], 0, dx*strat.shape[0]],\n",
    "           interpolation='none')\n",
    "plt.colorbar()\n",
    "plt.xlabel('distance (m)', fontsize = 14)\n",
    "plt.ylabel('distance (m)', fontsize = 14)\n",
    "plt.title('chronostratigraphic diagram', fontsize = 14)\n",
    "plt.axis('equal')\n",
    "plt.tight_layout()"
   ]
  },
  {
   "cell_type": "code",
   "execution_count": 16,
   "metadata": {},
   "outputs": [],
   "source": [
    "# 3D visualization with isosurface\n",
    "mlab.figure()\n",
    "source = mlab.pipeline.scalar_field(np.swapaxes(wheeler, 0, 1))\n",
    "source.spacing = [1,1,2]\n",
    "mlab.pipeline.iso_surface(source, contours=[-1, 1], opacity=1, colormap='RdBu', vmin = -1.5, vmax = 1.5);"
   ]
  },
  {
   "cell_type": "code",
   "execution_count": 17,
   "metadata": {},
   "outputs": [],
   "source": [
    "# 3D visualization with plane widgets\n",
    "mlab.figure()\n",
    "source = mlab.pipeline.scalar_field(np.swapaxes(wheeler, 0, 1))\n",
    "source.spacing = [1,1,4]\n",
    "for axis in ['x', 'y', 'z']:\n",
    "    plane = mlab.pipeline.image_plane_widget(source, plane_orientation = '{}_axes'.format(axis),\n",
    "                                           slice_index=i, colormap='RdBu', vmin = -8, vmax = 8);"
   ]
  },
  {
   "cell_type": "markdown",
   "metadata": {},
   "source": [
    "## Cross sections (no need for Mayavi)"
   ]
  },
  {
   "cell_type": "code",
   "execution_count": 38,
   "metadata": {},
   "outputs": [],
   "source": [
    "# load data from hdf5 file (this is a 'meanderpy' model)\n",
    "fname = '/Users/zoltan/Dropbox/Chronostratigraphy/meanderpy_strat_model_example_1.hdf5'\n",
    "f = h5py.File(fname, 'r')\n",
    "model  = f['model']\n",
    "topo = np.array(model['topo'])\n",
    "strat = np.array(model['strat'])\n",
    "facies = np.array(model['facies'])\n",
    "porosity = np.array(model['porosity'])\n",
    "facies_code = {}\n",
    "facies_code[int(np.array(model['point bar']))] = 'point bar'\n",
    "facies_code[int(np.array(model['levee']))] = 'levee'\n",
    "dx = float(np.array(model['dx']))\n",
    "f.close()"
   ]
  },
  {
   "cell_type": "code",
   "execution_count": 39,
   "metadata": {
    "scrolled": true
   },
   "outputs": [
    {
     "name": "stderr",
     "output_type": "stream",
     "text": [
      "100%|██████████| 130/130 [00:00<00:00, 369.33it/s] \n"
     ]
    }
   ],
   "source": [
    "reload(sp)\n",
    "fig = sp.plot_model_cross_section_EW(strat, porosity, facies3d, dx, 260, color_mode='facies', \n",
    "                                     flattening_ind = False, ve = 5, list_of_colors = ['yellow', 'brown'])"
   ]
  },
  {
   "cell_type": "code",
   "execution_count": 37,
   "metadata": {},
   "outputs": [
    {
     "name": "stderr",
     "output_type": "stream",
     "text": [
      "100%|██████████| 65/65 [00:00<00:00, 436.30it/s]\n"
     ]
    }
   ],
   "source": [
    "reload(sp)\n",
    "fig = sp.plot_model_cross_section_NS(strat, porosity, facies3d, dx, 160, color_mode='facies', \n",
    "                                     flattening_ind = False, ve = 10, list_of_colors = ['yellow', 'brown'])"
   ]
  },
  {
   "cell_type": "markdown",
   "metadata": {},
   "source": [
    "## XES 02 Experiment"
   ]
  },
  {
   "cell_type": "code",
   "execution_count": 3,
   "metadata": {},
   "outputs": [],
   "source": [
    "import os\n",
    "dirname = '/Users/zoltan/Dropbox/Chronostratigraphy/XES_02/final_topography_data/topography/'\n",
    "T = np.zeros((261,111,101))\n",
    "filenames = os.listdir(dirname)\n",
    "for filename in filenames:\n",
    "    surf_no = int(filename[8:-4])\n",
    "    xyz = np.loadtxt(dirname+filename)\n",
    "    z = xyz[:,2]\n",
    "    T[:,:,surf_no-1] = np.reshape(z,(261,111))\n",
    "dirname = '/Users/zoltan/Dropbox/Chronostratigraphy/XES_02/final_topography_data/basement_topography/'\n",
    "B = np.zeros((261,111,101))\n",
    "filenames = os.listdir(dirname)\n",
    "for filename in filenames:\n",
    "    surf_no = int(filename[:-4])\n",
    "    xyz = np.loadtxt(dirname+filename)\n",
    "    z = xyz[:,2]\n",
    "    B[:,:,surf_no-1] = np.reshape(z,(261,111))\n",
    "\n",
    "# np.shape(T)"
   ]
  },
  {
   "cell_type": "code",
   "execution_count": 4,
   "metadata": {},
   "outputs": [
    {
     "data": {
      "text/html": [
       "<div>\n",
       "<style scoped>\n",
       "    .dataframe tbody tr th:only-of-type {\n",
       "        vertical-align: middle;\n",
       "    }\n",
       "\n",
       "    .dataframe tbody tr th {\n",
       "        vertical-align: top;\n",
       "    }\n",
       "\n",
       "    .dataframe thead th {\n",
       "        text-align: right;\n",
       "    }\n",
       "</style>\n",
       "<table border=\"1\" class=\"dataframe\">\n",
       "  <thead>\n",
       "    <tr style=\"text-align: right;\">\n",
       "      <th></th>\n",
       "      <th>Scan number</th>\n",
       "      <th>sl(mm)</th>\n",
       "      <th>run time (hhh:mm:ss)</th>\n",
       "    </tr>\n",
       "  </thead>\n",
       "  <tbody>\n",
       "    <tr>\n",
       "      <th>0</th>\n",
       "      <td>1</td>\n",
       "      <td>-129.9</td>\n",
       "      <td>0: 0: 0</td>\n",
       "    </tr>\n",
       "    <tr>\n",
       "      <th>1</th>\n",
       "      <td>2</td>\n",
       "      <td>-130.1</td>\n",
       "      <td>2: 6: 0</td>\n",
       "    </tr>\n",
       "    <tr>\n",
       "      <th>2</th>\n",
       "      <td>3</td>\n",
       "      <td>-130.5</td>\n",
       "      <td>2: 7: 0</td>\n",
       "    </tr>\n",
       "    <tr>\n",
       "      <th>3</th>\n",
       "      <td>4</td>\n",
       "      <td>-130.0</td>\n",
       "      <td>10: 0: 0</td>\n",
       "    </tr>\n",
       "    <tr>\n",
       "      <th>4</th>\n",
       "      <td>5</td>\n",
       "      <td>-130.2</td>\n",
       "      <td>18: 1: 8</td>\n",
       "    </tr>\n",
       "    <tr>\n",
       "      <th>5</th>\n",
       "      <td>7</td>\n",
       "      <td>-135.6</td>\n",
       "      <td>34: 0: 38</td>\n",
       "    </tr>\n",
       "    <tr>\n",
       "      <th>6</th>\n",
       "      <td>8</td>\n",
       "      <td>-151.7</td>\n",
       "      <td>41: 59: 59</td>\n",
       "    </tr>\n",
       "    <tr>\n",
       "      <th>7</th>\n",
       "      <td>9</td>\n",
       "      <td>-171.8</td>\n",
       "      <td>49: 10: 44</td>\n",
       "    </tr>\n",
       "    <tr>\n",
       "      <th>8</th>\n",
       "      <td>10</td>\n",
       "      <td>-200.3</td>\n",
       "      <td>58: 0: 9</td>\n",
       "    </tr>\n",
       "    <tr>\n",
       "      <th>9</th>\n",
       "      <td>11</td>\n",
       "      <td>-222.4</td>\n",
       "      <td>66: 0: 26</td>\n",
       "    </tr>\n",
       "  </tbody>\n",
       "</table>\n",
       "</div>"
      ],
      "text/plain": [
       "   Scan number  sl(mm) run time (hhh:mm:ss)\n",
       "0            1  -129.9             0: 0: 0 \n",
       "1            2  -130.1             2: 6: 0 \n",
       "2            3  -130.5             2: 7: 0 \n",
       "3            4  -130.0            10: 0: 0 \n",
       "4            5  -130.2            18: 1: 8 \n",
       "5            7  -135.6           34: 0: 38 \n",
       "6            8  -151.7          41: 59: 59 \n",
       "7            9  -171.8          49: 10: 44 \n",
       "8           10  -200.3            58: 0: 9 \n",
       "9           11  -222.4           66: 0: 26 "
      ]
     },
     "execution_count": 4,
     "metadata": {},
     "output_type": "execute_result"
    }
   ],
   "source": [
    "import pandas as pd\n",
    "df = pd.read_csv('/Users/zoltan/Dropbox/Chronostratigraphy/XES_02/final_topography_data/sealevel_and_scantimes.csv')\n",
    "df[:10]"
   ]
  },
  {
   "cell_type": "code",
   "execution_count": 5,
   "metadata": {},
   "outputs": [],
   "source": [
    "def convert_to_seconds(string):\n",
    "    h = int(string.split(':')[0])\n",
    "    m = int(string.split(':')[1])\n",
    "    s = int(string.split(':')[2])\n",
    "    return h*60*60 + m*60 + s\n",
    "\n",
    "exp_time = np.nan * np.ones((T.shape[2],))\n",
    "sea_level = np.nan * np.ones((T.shape[2],))\n",
    "\n",
    "for i in range(len(exp_time)):\n",
    "    if len(df.loc[df['Scan number'] == i+1]) > 0:\n",
    "        exp_time[i] = convert_to_seconds(df.loc[df['Scan number'] == i+1]['run time (hhh:mm:ss)'].values[0])\n",
    "        sea_level[i] = df.loc[df['Scan number'] == i+1]['sl(mm)']\n",
    "        \n",
    "        \n",
    "missing_times = np.where(np.isnan(exp_time)==1)[0]\n",
    "for i in missing_times:\n",
    "    exp_time[i] = (exp_time[i-1] + exp_time[i+1]) * 0.5\n",
    "    sea_level[i] = (sea_level[i-1] + sea_level[i+1]) * 0.5\n",
    "\n",
    "exp_time = np.delete(exp_time, np.array([2, 5, 12, 25, 30, 31, 48, 60])) # get rid of locations with missing data\n",
    "sea_level = np.delete(sea_level, np.array([2, 5, 12, 25, 30, 31, 48, 60])) # get rid of locations with missing data\n",
    "    \n",
    "\n",
    "plt.figure(figsize=(10, 6))\n",
    "plt.plot(exp_time, sea_level, 'o-')\n",
    "plt.xlabel('time (seconds)', fontsize = 16)\n",
    "plt.ylabel('sea level (mm)', fontsize = 16);\n",
    "\n",
    "T = np.delete(T, np.array([2, 5, 12, 25, 30, 31, 48, 60]), axis=2) # get rid of locations with no data\n",
    "B = np.delete(B, np.array([2, 5, 12, 25, 30, 31, 48, 60]), axis=2) # get rid of locations with no data"
   ]
  },
  {
   "cell_type": "code",
   "execution_count": 6,
   "metadata": {},
   "outputs": [],
   "source": [
    "from scipy import interpolate\n",
    "from scipy.interpolate import splev, splrep\n",
    "def resample_elevation_spl(time, elevation, sampling_rate):\n",
    "    spl = splrep(time, elevation, s=0.5)\n",
    "    time_new = np.arange(time[0], time[-1]+1, sampling_rate)\n",
    "    elevation_new = splev(time_new, spl)\n",
    "    return time_new, elevation_new\n",
    "def resample_elevation_int1d(time, elevation, sampling_rate):\n",
    "    f = interpolate.interp1d(time, elevation)\n",
    "    time_new = np.arange(time[0], time[-1]+1, sampling_rate)\n",
    "    elevation_new = f(time_new)\n",
    "    return time_new, elevation_new\n",
    "\n",
    "sampling_rate = 900 # resample at every 900 seconds\n",
    "time1, sea_level_rs1 = resample_elevation_spl(exp_time, sea_level, sampling_rate)\n",
    "plt.figure()\n",
    "plt.plot(exp_time, sea_level, '.-')\n",
    "plt.plot(time1, sea_level_rs1, '.-')\n",
    "\n",
    "time2, sea_level_rs2 = resample_elevation_int1d(exp_time, sea_level, sampling_rate)\n",
    "plt.plot(time2, sea_level_rs2, '.-')\n",
    "\n",
    "# sea_level_rs1[804:868] = sea_level_rs2[804:868] # replace sea level 1 w/ sea level 2\n",
    "# sea_level_rs1[972:1215] = sea_level_rs2[972:1215] # replace sea level 1 w/ sea level 2\n",
    "# sea_level_rs1[267:289] = sea_level_rs2[267:289] # replace sea level 1 w/ sea level 2\n",
    "# sea_level_rs1[324:405] = sea_level_rs2[324:405] # replace sea level 1 w/ sea level 2\n",
    "sea_level_rs1[535:578] = sea_level_rs2[535:578] # replace sea level 1 w/ sea level 2\n",
    "sea_level_rs1[648:810] = sea_level_rs2[648:810] # replace sea level 1 w/ sea level 2\n",
    "plt.plot(time1, sea_level_rs1, 'b.-')\n",
    "\n",
    "time = time1.copy()\n",
    "sea_level_rs = sea_level_rs1.copy()"
   ]
  },
  {
   "cell_type": "code",
   "execution_count": 7,
   "metadata": {},
   "outputs": [],
   "source": [
    "# resample topography and subsidence arrays:\n",
    "topo = np.zeros((T.shape[0], T.shape[1], len(time)))\n",
    "for j in range(T.shape[1]):\n",
    "    for i in range(T.shape[0]):\n",
    "        elevation = T[i, j, :].copy()\n",
    "        time, elevation = resample_elevation_int1d(exp_time, elevation, sampling_rate)\n",
    "        topo[i,j,:] = elevation  \n",
    "subsid = np.zeros((B.shape[0], B.shape[1], len(time)))\n",
    "for j in range(B.shape[1]):\n",
    "    for i in range(B.shape[0]):\n",
    "        elevation = B[i, j, :].copy()\n",
    "        time, elevation = resample_elevation_int1d(exp_time, elevation, sampling_rate)\n",
    "        subsid[i,j,:] = elevation\n",
    "\n",
    "# adjust topographic and subsidence surfaces in the proximal corners (for aestethic reasons only)\n",
    "inds = np.indices(np.shape(subsid[:,:,0]))\n",
    "inds2 = np.argwhere(inds[0] < -4.8*inds[1] + 120)\n",
    "inds3 = np.argwhere(inds[0] > 5.13*inds[1] + 142)\n",
    "for i in range(np.shape(subsid)[2]):\n",
    "    subsid[:, :, i][inds2[:,0], inds2[:,1]] = -229.6\n",
    "    subsid[:, :, i][inds3[:,0], inds3[:,1]] = -229.6\n",
    "for i in range(np.shape(topo)[2]):\n",
    "    topo[:, :, i][inds2[:,0], inds2[:,1]] = 0\n",
    "    topo[:, :, i][inds3[:,0], inds3[:,1]] = 0\n",
    "    \n",
    "# account for subsidence:\n",
    "topo_s = topo.copy() \n",
    "for i in range(0, topo.shape[2]):\n",
    "    topo_s[:,:,i] = topo_s[:,:,i]+(subsid[:,:,-1]-subsid[:,:,i])"
   ]
  },
  {
   "cell_type": "code",
   "execution_count": 45,
   "metadata": {},
   "outputs": [],
   "source": [
    "plt.figure(figsize=(18, 10))\n",
    "for i in range(0, topo_s.shape[2], 20):\n",
    "    plt.plot(topo_s[130, :, i], 'k', linewidth=0.5)"
   ]
  },
  {
   "cell_type": "code",
   "execution_count": 8,
   "metadata": {},
   "outputs": [],
   "source": [
    "# create a number of time-elevation plots\n",
    "fig = sp.plot_strat_diagram(time, topo_s[125, 20, :], 'seconds', 'mm', time[-1], np.max(topo_s[125, 20, :]))\n",
    "fig = sp.plot_strat_diagram(time, topo_s[125, 60, :], 'seconds', 'mm', time[-1], np.max(topo_s[125, 60, :]))\n",
    "fig = sp.plot_strat_diagram(time, topo_s[125, 100, :], 'seconds', 'mm', time[-1], np.max(topo_s[125, 100, :]))"
   ]
  },
  {
   "cell_type": "code",
   "execution_count": 392,
   "metadata": {},
   "outputs": [],
   "source": [
    "# convert topographic surfaces to stratigraphy\n",
    "strat = sp.topostrat(topo_s)"
   ]
  },
  {
   "cell_type": "code",
   "execution_count": 9,
   "metadata": {},
   "outputs": [
    {
     "name": "stderr",
     "output_type": "stream",
     "text": [
      "/Users/zoltan/Dropbox/Chronostratigraphy/stratipy/stratipy.py:840: RuntimeWarning: invalid value encountered in greater\n",
      "  vacuity[(wheeler>0) & (wheeler_strat==0)] = 1 # make the 'vacuity' array 1 where there was deposition (wheeler > 0) but stratigraphy is not preserved (wheeler_strat = 0)\n",
      "/Users/zoltan/Dropbox/Chronostratigraphy/stratipy/stratipy.py:841: RuntimeWarning: invalid value encountered in less\n",
      "  wheeler_strat[wheeler<0] = wheeler[wheeler<0] # add erosion to 'wheeler_strat' (otherwise it would only show deposition)\n"
     ]
    }
   ],
   "source": [
    "# create wheeler diagram(s)\n",
    "strat, wheeler, wheeler_strat, vacuity = sp.create_wheeler_diagram(topo_s)"
   ]
  },
  {
   "cell_type": "code",
   "execution_count": 48,
   "metadata": {},
   "outputs": [],
   "source": [
    "plt.figure(figsize=(20,15))\n",
    "plt.imshow(wheeler[125,:,:].T, extent = [0, 111, time[-1], 0], cmap='RdBu', vmin = -4, vmax = 4, \n",
    "           interpolation='none', aspect='auto')\n",
    "plt.gca().invert_yaxis()\n",
    "plt.colorbar();\n",
    "sl = 20 * (sea_level_rs - np.min(sea_level_rs))/213.5 # sea level curve\n",
    "plt.plot(2 +np.max(sl)-sl, time, 'k', linewidth=3)\n",
    "plt.ylim(0, time[-1])\n",
    "plt.xlim(2, 111)\n",
    "plt.title('chronostratigraphic diagram', fontsize=20);"
   ]
  },
  {
   "cell_type": "code",
   "execution_count": 49,
   "metadata": {},
   "outputs": [],
   "source": [
    "plt.figure(figsize=(20,15))\n",
    "plt.imshow(wheeler_strat[125,:,:].T, extent = [0, 111, time[-1], 0], cmap='RdBu', vmin = -4, vmax = 4, \n",
    "           interpolation='none', aspect='auto')\n",
    "plt.gca().invert_yaxis()\n",
    "plt.colorbar();\n",
    "sl = 20 * (sea_level_rs - np.min(sea_level_rs))/213.5\n",
    "plt.plot(2 +np.max(sl)-sl, time, 'k', linewidth=3)\n",
    "plt.ylim(0, time[-1])\n",
    "plt.xlim(2, 111)\n",
    "plt.title('chronostratigraphic diagram w/ vacuity', fontsize=20);"
   ]
  },
  {
   "cell_type": "code",
   "execution_count": 50,
   "metadata": {},
   "outputs": [],
   "source": [
    "# 3D visualization with isosurface\n",
    "mlab.figure()\n",
    "source = mlab.pipeline.scalar_field(np.swapaxes(wheeler, 0, 1))\n",
    "source.spacing = [5, 1, 0.1]\n",
    "mlab.pipeline.iso_surface(source, contours=[-2, 2], opacity=0.5, colormap='RdBu', vmin = -4, vmax = 4);"
   ]
  },
  {
   "cell_type": "code",
   "execution_count": 51,
   "metadata": {},
   "outputs": [],
   "source": [
    "# 3D visualization with plane widgets\n",
    "mlab.figure()\n",
    "source = mlab.pipeline.scalar_field(np.swapaxes(wheeler, 0, 1))\n",
    "source.spacing = [5, 1, 0.2]\n",
    "for axis in ['x', 'y', 'z']:\n",
    "    plane = mlab.pipeline.image_plane_widget(source, plane_orientation = '{}_axes'.format(axis),\n",
    "                                           slice_index=i, colormap='RdBu', vmin = -4, vmax = 4);"
   ]
  },
  {
   "cell_type": "code",
   "execution_count": 10,
   "metadata": {},
   "outputs": [
    {
     "name": "stderr",
     "output_type": "stream",
     "text": [
      "/Users/zoltan/anaconda3/envs/meanderpy/lib/python3.7/site-packages/ipykernel_launcher.py:7: RuntimeWarning: invalid value encountered in greater_equal\n",
      "  import sys\n",
      "/Users/zoltan/anaconda3/envs/meanderpy/lib/python3.7/site-packages/ipykernel_launcher.py:8: RuntimeWarning: invalid value encountered in less\n",
      "  \n",
      "/Users/zoltan/anaconda3/envs/meanderpy/lib/python3.7/site-packages/ipykernel_launcher.py:8: RuntimeWarning: invalid value encountered in greater_equal\n",
      "  \n",
      "/Users/zoltan/anaconda3/envs/meanderpy/lib/python3.7/site-packages/ipykernel_launcher.py:9: RuntimeWarning: invalid value encountered in less\n",
      "  if __name__ == '__main__':\n"
     ]
    }
   ],
   "source": [
    "# create 3D facies array (as a function of water depth in this case)\n",
    "ny, nx, nz = np.shape(strat)\n",
    "facies = np.zeros((ny, nx, nz))\n",
    "for i in range(facies.shape[2]):\n",
    "    topo_sl = topo[:, :, i] - sea_level_rs[i]\n",
    "    facies_sl = np.zeros(np.shape(topo_sl))\n",
    "    facies_sl[topo_sl >= 0] = 0\n",
    "    facies_sl[(topo_sl < 0) & (topo_sl >= -100)] = 1\n",
    "    facies_sl[topo_sl < -100] = 2\n",
    "    facies[:, :, i] = facies_sl"
   ]
  },
  {
   "cell_type": "code",
   "execution_count": 11,
   "metadata": {},
   "outputs": [],
   "source": [
    "# eliminating nans from 'strat' array\n",
    "for i in range(np.shape(strat)[2]):\n",
    "    t = strat[:, :, i]\n",
    "    t[np.isnan(t) == 1] = t[136, 1]\n",
    "    strat[:, :, i] = t"
   ]
  },
  {
   "cell_type": "code",
   "execution_count": 18,
   "metadata": {},
   "outputs": [
    {
     "name": "stderr",
     "output_type": "stream",
     "text": [
      "100%|██████████| 1240/1240 [00:19<00:00, 62.14it/s]\n"
     ]
    }
   ],
   "source": [
    "# plot cross section colored by water depth (= facies in this case)\n",
    "fig = sp.plot_model_cross_section_EW(strat, facies, facies, dx = 50, xsec = 135, color_mode = 'facies', \n",
    "                                     map_aspect = 0.2,\n",
    "                                     line_freq = 5,\n",
    "                                     flattening_ind = False, units = 'mm')"
   ]
  },
  {
   "cell_type": "code",
   "execution_count": 19,
   "metadata": {},
   "outputs": [
    {
     "name": "stderr",
     "output_type": "stream",
     "text": [
      "100%|██████████| 1240/1240 [00:16<00:00, 75.08it/s] \n"
     ]
    }
   ],
   "source": [
    "reload(sp)\n",
    "fig = sp.plot_model_cross_section_NS(strat, facies, facies, dx = 10, xsec = 50, color_mode = 'facies',\n",
    "                                     map_aspect = 0.2,\n",
    "                                     line_freq = 5,\n",
    "                                     flattening_ind = False, units = 'mm')"
   ]
  },
  {
   "cell_type": "code",
   "execution_count": null,
   "metadata": {},
   "outputs": [],
   "source": []
  }
 ],
 "metadata": {
  "kernelspec": {
   "display_name": "Python 3",
   "language": "python",
   "name": "python3"
  },
  "language_info": {
   "codemirror_mode": {
    "name": "ipython",
    "version": 3
   },
   "file_extension": ".py",
   "mimetype": "text/x-python",
   "name": "python",
   "nbconvert_exporter": "python",
   "pygments_lexer": "ipython3",
   "version": "3.7.3"
  }
 },
 "nbformat": 4,
 "nbformat_minor": 2
}
